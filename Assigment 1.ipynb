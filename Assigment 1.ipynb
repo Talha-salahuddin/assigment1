{
 "cells": [
  {
   "cell_type": "code",
   "execution_count": 2,
   "metadata": {},
   "outputs": [],
   "source": [
    "import numpy as np\n",
    "import glob\n",
    "from PIL import Image\n",
    "import os.path\n",
    "from os import path\n",
    "import os"
   ]
  },
  {
   "cell_type": "code",
   "execution_count": 3,
   "metadata": {},
   "outputs": [],
   "source": [
    "def attach_file():\n",
    "    roo = 'photos'\n",
    "    try:\n",
    "        r = path.exists(roo)\n",
    "        if r != True:\n",
    "            raise IOError\n",
    "    except IOError:\n",
    "        print('not found')\n",
    "    else:\n",
    "        for dirName, subdirList, fileList in os.walk(roo):\n",
    "            print('found : %s' %dirName)\n",
    "            print('found:',len(fileList),'Files')"
   ]
  },
  {
   "cell_type": "code",
   "execution_count": 4,
   "metadata": {},
   "outputs": [],
   "source": [
    "def zises():\n",
    "    fileList = glob.glob('photos/*.jpg')\n",
    "    for file in fileList:\n",
    "        imge = Image.open(file)\n",
    "        img = imge.resize((200,200))\n",
    "    x = np.array([np.array(img)for fname in fileList])\n",
    "    print(x.shape)"
   ]
  },
  {
   "cell_type": "code",
   "execution_count": 5,
   "metadata": {},
   "outputs": [],
   "source": [
    "def main():\n",
    "    attach_file()\n",
    "    zises()"
   ]
  },
  {
   "cell_type": "code",
   "execution_count": 6,
   "metadata": {},
   "outputs": [
    {
     "name": "stdout",
     "output_type": "stream",
     "text": [
      "found : photos\n",
      "found: 20 Files\n",
      "(20, 200, 200, 3)\n"
     ]
    }
   ],
   "source": [
    "main()"
   ]
  }
 ],
 "metadata": {
  "kernelspec": {
   "display_name": "Python 3",
   "language": "python",
   "name": "python3"
  },
  "language_info": {
   "codemirror_mode": {
    "name": "ipython",
    "version": 3
   },
   "file_extension": ".py",
   "mimetype": "text/x-python",
   "name": "python",
   "nbconvert_exporter": "python",
   "pygments_lexer": "ipython3",
   "version": "3.7.3"
  }
 },
 "nbformat": 4,
 "nbformat_minor": 2
}
